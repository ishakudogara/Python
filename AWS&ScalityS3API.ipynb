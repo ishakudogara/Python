{
 "cells": [
  {
   "cell_type": "code",
   "execution_count": null,
   "metadata": {},
   "outputs": [],
   "source": [
    "import sys\n",
    "!pip install --yes --prefix {sys.prefix } urllib\n",
    "!pip install --yes --prefix {sys.prefix} bs4"
   ]
  },
  {
   "cell_type": "code",
   "execution_count": 1,
   "metadata": {},
   "outputs": [],
   "source": [
    "from urllib.request import urlopen as uReq\n",
    "from bs4 import BeautifulSoup as soup"
   ]
  },
  {
   "cell_type": "code",
   "execution_count": 3,
   "metadata": {},
   "outputs": [],
   "source": [
    "my_url = 'https://docs.aws.amazon.com/AmazonS3/latest/API/API_Operations.html'\n",
    "\n",
    "uClient = uReq(my_url)\n",
    "page_html = uClient.read()\n",
    "uClient.close()\n",
    "page_soup = soup(page_html, \"html.parser\")"
   ]
  },
  {
   "cell_type": "code",
   "execution_count": 56,
   "metadata": {},
   "outputs": [
    {
     "name": "stdout",
     "output_type": "stream",
     "text": [
      "AbortMultipartUpload\n",
      "CompleteMultipartUpload\n",
      "CopyObject\n",
      "CreateBucket\n",
      "CreateMultipartUpload\n",
      "DeleteBucket\n",
      "DeleteBucketAnalyticsConfiguration\n",
      "DeleteBucketCors\n",
      "DeleteBucketEncryption\n",
      "DeleteBucketInventoryConfiguration\n",
      "DeleteBucketLifecycle\n",
      "DeleteBucketMetricsConfiguration\n",
      "DeleteBucketPolicy\n",
      "DeleteBucketReplication\n",
      "DeleteBucketTagging\n",
      "DeleteBucketWebsite\n",
      "DeleteObject\n",
      "DeleteObjects\n",
      "DeleteObjectTagging\n",
      "DeletePublicAccessBlock\n",
      "GetBucketAccelerateConfiguration\n",
      "GetBucketAcl\n",
      "GetBucketAnalyticsConfiguration\n",
      "GetBucketCors\n",
      "GetBucketEncryption\n",
      "GetBucketInventoryConfiguration\n",
      "GetBucketLifecycle\n",
      "GetBucketLifecycleConfiguration\n",
      "GetBucketLocation\n",
      "GetBucketLogging\n",
      "GetBucketMetricsConfiguration\n",
      "GetBucketNotification\n",
      "GetBucketNotificationConfiguration\n",
      "GetBucketPolicy\n",
      "GetBucketPolicyStatus\n",
      "GetBucketReplication\n",
      "GetBucketRequestPayment\n",
      "GetBucketTagging\n",
      "GetBucketVersioning\n",
      "GetBucketWebsite\n",
      "GetObject\n",
      "GetObjectAcl\n",
      "GetObjectLegalHold\n",
      "GetObjectLockConfiguration\n",
      "GetObjectRetention\n",
      "GetObjectTagging\n",
      "GetObjectTorrent\n",
      "GetPublicAccessBlock\n",
      "HeadBucket\n",
      "HeadObject\n",
      "ListBucketAnalyticsConfigurations\n",
      "ListBucketInventoryConfigurations\n",
      "ListBucketMetricsConfigurations\n",
      "ListBuckets\n",
      "ListMultipartUploads\n",
      "ListObjects\n",
      "ListObjectsV2\n",
      "ListObjectVersions\n",
      "ListParts\n",
      "PutBucketAccelerateConfiguration\n",
      "PutBucketAcl\n",
      "PutBucketAnalyticsConfiguration\n",
      "PutBucketCors\n",
      "PutBucketEncryption\n",
      "PutBucketInventoryConfiguration\n",
      "PutBucketLifecycle\n",
      "PutBucketLifecycleConfiguration\n",
      "PutBucketLogging\n",
      "PutBucketMetricsConfiguration\n",
      "PutBucketNotification\n",
      "PutBucketNotificationConfiguration\n",
      "PutBucketPolicy\n",
      "PutBucketReplication\n",
      "PutBucketRequestPayment\n",
      "PutBucketTagging\n",
      "PutBucketVersioning\n",
      "PutBucketWebsite\n",
      "PutObject\n",
      "PutObjectAcl\n",
      "PutObjectLegalHold\n",
      "PutObjectLockConfiguration\n",
      "PutObjectRetention\n",
      "PutObjectTagging\n",
      "PutPublicAccessBlock\n",
      "RestoreObject\n",
      "SelectObjectContent\n",
      "UploadPart\n",
      "UploadPartCopy\n",
      "CreateJob\n",
      "DeletePublicAccessBlock\n",
      "DescribeJob\n",
      "GetPublicAccessBlock\n",
      "ListJobs\n",
      "PutPublicAccessBlock\n",
      "UpdateJobPriority\n",
      "UpdateJobStatus\n"
     ]
    }
   ],
   "source": [
    "containers = page_soup.findAll(\"li\",{\"class\": \"listitem\"})\n",
    "#result = [a['href'] for a in page_soup.findAll('a', {\"class\": \"listitem\"}, href=True)]\n",
    "\n",
    "for container in containers :\n",
    "    print (container.find(\"a\", href=True).text)\n",
    "    "
   ]
  },
  {
   "cell_type": "code",
   "execution_count": 5,
   "metadata": {},
   "outputs": [
    {
     "name": "stdout",
     "output_type": "stream",
     "text": [
      "96\n"
     ]
    }
   ],
   "source": [
    "print(len(containers))"
   ]
  }
 ],
 "metadata": {
  "kernelspec": {
   "display_name": "Python 3",
   "language": "python",
   "name": "python3"
  },
  "language_info": {
   "codemirror_mode": {
    "name": "ipython",
    "version": 3
   },
   "file_extension": ".py",
   "mimetype": "text/x-python",
   "name": "python",
   "nbconvert_exporter": "python",
   "pygments_lexer": "ipython3",
   "version": "3.7.0"
  }
 },
 "nbformat": 4,
 "nbformat_minor": 2
}
